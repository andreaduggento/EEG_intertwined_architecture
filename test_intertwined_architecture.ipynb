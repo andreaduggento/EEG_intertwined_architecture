{
 "cells": [
  {
   "cell_type": "code",
   "execution_count": 1,
   "id": "696b19d3-9160-4dca-83f0-5d2fff1a6374",
   "metadata": {},
   "outputs": [],
   "source": [
    "import os, sys\n",
    "os.environ['TF_XLA_FLAGS'] = '--tf_xla_enable_xla_devices'\n",
    "import numpy as np\n",
    "import h5py\n",
    "from keras.layers import Conv2D, BatchNormalization, Activation, Flatten, Dense, Dropout, LSTM, Input, TimeDistributed, Bidirectional, GlobalMaxPooling1D, MaxPooling1D, Permute, Reshape, Conv1D\n",
    "from keras import initializers, Model, optimizers, callbacks\n",
    "from keras.models import load_model\n",
    "from keras.optimizers import SGD, RMSprop, SGD, Adam, Nadam\n",
    "from keras.metrics import *\n",
    "#from keras.utils.training_utils import multi_gpu_model\n",
    "from glob import glob\n",
    "from keras import optimizers\n",
    "import tensorflow as tf\n",
    "import pandas as pd\n",
    "from pandas import Categorical"
   ]
  },
  {
   "cell_type": "code",
   "execution_count": 2,
   "id": "ecd655db-92a7-4b5a-b934-504bf83da67d",
   "metadata": {},
   "outputs": [],
   "source": [
    "def import_hdf5(filename):\n",
    "    f = h5py.File(filename,'r')\n",
    "    a_group_key = list(f.keys())[0]\n",
    "    data = list(f[a_group_key])\n",
    "    return np.array(data)"
   ]
  },
  {
   "cell_type": "code",
   "execution_count": 3,
   "id": "17c14d60-639c-48e3-b853-519ec21bb15a",
   "metadata": {},
   "outputs": [],
   "source": [
    "from glob import glob"
   ]
  },
  {
   "cell_type": "code",
   "execution_count": 4,
   "id": "587b8e42-a5be-4f97-aa95-b792bacaaaa1",
   "metadata": {},
   "outputs": [],
   "source": [
    "nomeschema='09'\n",
    "npyfilespath =\"../public_data/CHUNKS_09/\"\n",
    "MODELDIR='./MODELS/'\n",
    "#os.chdir(npyfilespath)"
   ]
  },
  {
   "cell_type": "code",
   "execution_count": 5,
   "id": "7458bd61-0282-4461-b4f1-804062615c38",
   "metadata": {},
   "outputs": [],
   "source": [
    "TASK=\"HaLT-filt830-\"\n",
    "#subjects=['A','B','C','E','F','G','H','I','J','K','L','M']\n",
    "subjects=['G']\n",
    "searchstring=npyfilespath+TASK+\"Subject\"+subjects[0]+\"*_DATA.hdf5\""
   ]
  },
  {
   "cell_type": "code",
   "execution_count": 6,
   "id": "cb658e23-9bfd-4951-86a9-37ec39fb70f1",
   "metadata": {},
   "outputs": [
    {
     "data": {
      "text/plain": [
       "['../public_data/CHUNKS_09/HaLT-filt830-SubjectG1603016StLRHandLegTongue_chunks_09_DATA.hdf5',\n",
       " '../public_data/CHUNKS_09/HaLT-filt830-SubjectG1603226StLRHandLegTongue_chunks_09_DATA.hdf5',\n",
       " '../public_data/CHUNKS_09/HaLT-filt830-SubjectG1604126StLRHandLegTongue_chunks_09_DATA.hdf5']"
      ]
     },
     "execution_count": 6,
     "metadata": {},
     "output_type": "execute_result"
    }
   ],
   "source": [
    "glob(searchstring)"
   ]
  },
  {
   "cell_type": "code",
   "execution_count": 19,
   "id": "6353578c-ab38-4beb-8060-a8d0162eadfd",
   "metadata": {
    "tags": []
   },
   "outputs": [],
   "source": [
    "tdNnum   = [ 24 , 24 , 24 ]\n",
    "tdNact   = 'relu'\n",
    "sdCnum   = [ 30 , 20 , 15 ]\n",
    "sdCker   = [ 5 , 5 , 5  ]\n",
    "sdCact   = 'relu'\n",
    "poolSize  = [ 3 , 3 , 3  ]\n",
    "pooltype  = 'ave'\n",
    "LSnum = [ 0 , 0  ]\n",
    "LSdrop = [ 0.1 , 0  ]\n",
    "FNnum = [ 100 , 50  ]\n",
    "FNact   = 'relu'\n",
    "FNdrop = [ 0.5 , 0.2  ]"
   ]
  },
  {
   "cell_type": "code",
   "execution_count": 20,
   "id": "4c63a091-e2cd-4886-9965-11563ef243aa",
   "metadata": {
    "tags": []
   },
   "outputs": [
    {
     "name": "stdout",
     "output_type": "stream",
     "text": [
      "(200, 9)\n"
     ]
    }
   ],
   "source": [
    "###  TRAINING PARAMETERS\n",
    "patience_e = 150\n",
    "patience_p = 50\n",
    "factor = 0.2\n",
    "batch_size = 256\n",
    "# Define the optimizer\n",
    "optimizer = RMSprop(lr=1e-4, decay=1e-5)\n",
    "IDX=0;\n",
    "SUB=subjects[IDX];\n",
    "input_shape=(200,9)\n",
    "NUMCATEGORIES=6\n",
    "print(input_shape)"
   ]
  },
  {
   "cell_type": "code",
   "execution_count": 21,
   "id": "2b1813de-e070-4e6d-85fe-767204649573",
   "metadata": {
    "tags": []
   },
   "outputs": [
    {
     "name": "stdout",
     "output_type": "stream",
     "text": [
      "HaLT-filt830-Sub_G_interleaved_v4_09__tdNrelu_24_24_24__sdCrelu_30k5p3ave_20k5p3ave_15k5p3ave__GlobMaxpool__FCrelu_100_d0.5_50_d0.2_=6class__rmsprop_lr_0.0001_patience_150_50_factor_0.2_batch_256\n"
     ]
    }
   ],
   "source": [
    "from interleavedV4 import makeInterleavedModel, nameInterleavedModel\n",
    "modelname = nameInterleavedModel(TASK=TASK,SUB=SUB,nomeschema=nomeschema\n",
    "                                 ,lr=1e-4\n",
    "                                 ,patience_e=patience_e,patience_p=patience_p,factor=factor\n",
    "                                 ,batch_size=batch_size\n",
    "                                 ,tdNnum=tdNnum,tdNact=tdNact,sdCnum=sdCnum,sdCker=sdCker,sdCact=sdCact\n",
    "                                 ,poolSize=poolSize,pooltype=pooltype\n",
    "                                 ,LSnum=LSnum,LSdrop=LSdrop\n",
    "                                 ,FNnum=FNnum,FNact=FNact,FNdrop=FNdrop,NUMCATEGORIES=NUMCATEGORIES\n",
    "                                 ,optimizer='rmsprop'\n",
    "                                 ,printModelName=1)"
   ]
  },
  {
   "cell_type": "code",
   "execution_count": 22,
   "id": "34031100-2744-4ff2-ab9a-229de213e3c5",
   "metadata": {
    "tags": []
   },
   "outputs": [
    {
     "name": "stdout",
     "output_type": "stream",
     "text": [
      "(None, 65, 720)\n",
      "(None, 20, 480)\n",
      "(None, 5, 360)\n",
      "ciao\n",
      "(None, 5, 360)\n",
      "(None, 360, 5)\n",
      "ciao2\n",
      "(None, 360, 5, 1)\n",
      "(None, 360, 1)\n",
      "Model: \"model_3\"\n",
      "_________________________________________________________________\n",
      "Layer (type)                 Output Shape              Param #   \n",
      "=================================================================\n",
      "input_4 (InputLayer)         [(None, 200, 9)]          0         \n",
      "_________________________________________________________________\n",
      "tdNdense0 (TimeDistributed)  (None, 200, 24)           240       \n",
      "_________________________________________________________________\n",
      "tdNbanorm0 (BatchNormalizati (None, 200, 24)           96        \n",
      "_________________________________________________________________\n",
      "tdNact0 (Activation)         (None, 200, 24)           0         \n",
      "_________________________________________________________________\n",
      "permtd0 (Permute)            (None, 24, 200)           0         \n",
      "_________________________________________________________________\n",
      "reshtd0 (Reshape)            (None, 24, 200, 1)        0         \n",
      "_________________________________________________________________\n",
      "sdC0 (TimeDistributed)       (None, 24, 196, 30)       180       \n",
      "_________________________________________________________________\n",
      "sdCbanorm0 (BatchNormalizati (None, 24, 196, 30)       120       \n",
      "_________________________________________________________________\n",
      "sdCact0 (Activation)         (None, 24, 196, 30)       0         \n",
      "_________________________________________________________________\n",
      "pool0 (TimeDistributed)      (None, 24, 65, 30)        0         \n",
      "_________________________________________________________________\n",
      "permst0 (Permute)            (None, 65, 24, 30)        0         \n",
      "_________________________________________________________________\n",
      "reshsd0 (Reshape)            (None, 65, 720)           0         \n",
      "_________________________________________________________________\n",
      "tdNdense1 (TimeDistributed)  (None, 65, 24)            17304     \n",
      "_________________________________________________________________\n",
      "tdNbanorm1 (BatchNormalizati (None, 65, 24)            96        \n",
      "_________________________________________________________________\n",
      "tdNact1 (Activation)         (None, 65, 24)            0         \n",
      "_________________________________________________________________\n",
      "permtd1 (Permute)            (None, 24, 65)            0         \n",
      "_________________________________________________________________\n",
      "reshtd1 (Reshape)            (None, 24, 65, 1)         0         \n",
      "_________________________________________________________________\n",
      "sdC1 (TimeDistributed)       (None, 24, 61, 20)        120       \n",
      "_________________________________________________________________\n",
      "sdCbanorm1 (BatchNormalizati (None, 24, 61, 20)        80        \n",
      "_________________________________________________________________\n",
      "sdCact1 (Activation)         (None, 24, 61, 20)        0         \n",
      "_________________________________________________________________\n",
      "pool1 (TimeDistributed)      (None, 24, 20, 20)        0         \n",
      "_________________________________________________________________\n",
      "permst1 (Permute)            (None, 20, 24, 20)        0         \n",
      "_________________________________________________________________\n",
      "reshsd1 (Reshape)            (None, 20, 480)           0         \n",
      "_________________________________________________________________\n",
      "tdNdense2 (TimeDistributed)  (None, 20, 24)            11544     \n",
      "_________________________________________________________________\n",
      "tdNbanorm2 (BatchNormalizati (None, 20, 24)            96        \n",
      "_________________________________________________________________\n",
      "tdNact2 (Activation)         (None, 20, 24)            0         \n",
      "_________________________________________________________________\n",
      "permtd2 (Permute)            (None, 24, 20)            0         \n",
      "_________________________________________________________________\n",
      "reshtd2 (Reshape)            (None, 24, 20, 1)         0         \n",
      "_________________________________________________________________\n",
      "sdC2 (TimeDistributed)       (None, 24, 16, 15)        90        \n",
      "_________________________________________________________________\n",
      "sdCbanorm2 (BatchNormalizati (None, 24, 16, 15)        60        \n",
      "_________________________________________________________________\n",
      "sdCact2 (Activation)         (None, 24, 16, 15)        0         \n",
      "_________________________________________________________________\n",
      "pool2 (TimeDistributed)      (None, 24, 5, 15)         0         \n",
      "_________________________________________________________________\n",
      "permst2 (Permute)            (None, 5, 24, 15)         0         \n",
      "_________________________________________________________________\n",
      "reshsd2 (Reshape)            (None, 5, 360)            0         \n",
      "_________________________________________________________________\n",
      "lastperm (Permute)           (None, 360, 5)            0         \n",
      "_________________________________________________________________\n",
      "LastResh (Reshape)           (None, 360, 5, 1)         0         \n",
      "_________________________________________________________________\n",
      "LastGloMaxpool (TimeDistribu (None, 360, 1)            0         \n",
      "_________________________________________________________________\n",
      "Flatten (Flatten)            (None, 360)               0         \n",
      "_________________________________________________________________\n",
      "FC0 (Dense)                  (None, 100)               36100     \n",
      "_________________________________________________________________\n",
      "FNdrop0 (Dropout)            (None, 100)               0         \n",
      "_________________________________________________________________\n",
      "FC1 (Dense)                  (None, 50)                5050      \n",
      "_________________________________________________________________\n",
      "FNdrop1 (Dropout)            (None, 50)                0         \n",
      "_________________________________________________________________\n",
      "dense_15 (Dense)             (None, 6)                 306       \n",
      "=================================================================\n",
      "Total params: 71,482\n",
      "Trainable params: 71,208\n",
      "Non-trainable params: 274\n",
      "_________________________________________________________________\n",
      "None\n"
     ]
    }
   ],
   "source": [
    "import importlib\n",
    "import interleavedV4\n",
    "#from interleavedV4 import makeInterleavedModel, nameInterleavedModel\n",
    "importlib.reload(interleavedV4)\n",
    "\n",
    "model = makeInterleavedModel(input_shape\n",
    "                             ,tdNnum,tdNact\n",
    "                             ,sdCnum,sdCker,sdCact,poolSize,pooltype\n",
    "                             ,LSnum,LSdrop,FNnum,FNact,FNdrop\n",
    "                             ,NUMCATEGORIES,printModelSummary=1,printLayerShapes=1)\n",
    "\n",
    "model.compile(loss='categorical_crossentropy', optimizer=optimizer, metrics=['accuracy'])"
   ]
  },
  {
   "cell_type": "code",
   "execution_count": null,
   "id": "a7ba1fb4-5481-4a56-9aa1-b02214e7eb19",
   "metadata": {},
   "outputs": [],
   "source": []
  },
  {
   "cell_type": "code",
   "execution_count": null,
   "id": "4680a28d-2670-4478-af45-90b8d01ed506",
   "metadata": {},
   "outputs": [],
   "source": []
  }
 ],
 "metadata": {
  "kernelspec": {
   "display_name": "lstmA",
   "language": "python",
   "name": "lstma"
  },
  "language_info": {
   "codemirror_mode": {
    "name": "ipython",
    "version": 3
   },
   "file_extension": ".py",
   "mimetype": "text/x-python",
   "name": "python",
   "nbconvert_exporter": "python",
   "pygments_lexer": "ipython3",
   "version": "3.9.4"
  }
 },
 "nbformat": 4,
 "nbformat_minor": 5
}
